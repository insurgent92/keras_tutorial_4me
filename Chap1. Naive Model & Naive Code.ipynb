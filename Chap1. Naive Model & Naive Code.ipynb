{
 "cells": [
  {
   "cell_type": "markdown",
   "metadata": {},
   "source": [
    "## Chap1. Naive Model & Naive Code\n",
    "기본적인 CNN  구성"
   ]
  },
  {
   "cell_type": "markdown",
   "metadata": {},
   "source": [
    "### 1. Import"
   ]
  },
  {
   "cell_type": "code",
   "execution_count": 2,
   "metadata": {},
   "outputs": [
    {
     "name": "stderr",
     "output_type": "stream",
     "text": [
      "/home/visionnoob/anaconda3/envs/py36tf17/lib/python3.6/site-packages/h5py/__init__.py:36: FutureWarning: Conversion of the second argument of issubdtype from `float` to `np.floating` is deprecated. In future, it will be treated as `np.float64 == np.dtype(float).type`.\n",
      "  from ._conv import register_converters as _register_converters\n",
      "Using TensorFlow backend.\n"
     ]
    }
   ],
   "source": [
    "import numpy as np\n",
    "from keras.callbacks import EarlyStopping\n",
    "from keras.datasets import cifar10\n",
    "from keras.models import Sequential\n",
    "from keras.layers.core import Dense, Dropout, Flatten\n",
    "from keras.layers.convolutional import Conv2D\n",
    "from keras.optimizers import Adam\n",
    "from keras.layers.pooling import MaxPooling2D\n",
    "from keras.utils import to_categorical\n",
    "np.random.seed(1000)"
   ]
  },
  {
   "cell_type": "markdown",
   "metadata": {},
   "source": [
    "### 2. Load cifar10"
   ]
  },
  {
   "cell_type": "code",
   "execution_count": 4,
   "metadata": {},
   "outputs": [],
   "source": [
    "(X_train, Y_train), (X_test, Y_test) = cifar10.load_data()"
   ]
  },
  {
   "cell_type": "markdown",
   "metadata": {},
   "source": [
    "### 3. Construct CNN Model"
   ]
  },
  {
   "cell_type": "code",
   "execution_count": 7,
   "metadata": {},
   "outputs": [],
   "source": [
    "# Create the model\n",
    "model = Sequential()\n",
    "\n",
    "model.add(Conv2D(64, kernel_size=(5, 5), activation='relu', input_shape=(32, 32, 3)))\n",
    "model.add(MaxPooling2D(pool_size=(3, 3), padding = 'same',strides=(2, 2)))\n",
    "model.add(Dropout(0.25))\n",
    "\n",
    "model.add(Conv2D(64, kernel_size=(5, 5), activation='relu', input_shape=(8, 8, 64)))\n",
    "model.add(MaxPooling2D(pool_size=(3, 3), padding = 'same',strides=(2, 2)))\n",
    "model.add(Dropout(0.25))\n",
    "\n",
    "model.add(Conv2D(128, kernel_size=(3, 3), padding = 'same', activation='relu', input_shape=(8, 8, 128)))\n",
    "model.add(Dropout(0.25))\n",
    "\n",
    "model.add(Conv2D(128, kernel_size=(3, 3), padding = 'same', activation='relu', input_shape=(8, 8, 128)))\n",
    "model.add(Dropout(0.25))\n",
    "\n",
    "model.add(Conv2D(128, kernel_size=(3, 3), padding = 'same', activation='relu', input_shape=(8, 8, 128)))\n",
    "model.add(Dropout(0.25))\n",
    "\n",
    "model.add(Flatten())\n",
    "model.add(Dense(384, activation='relu'))\n",
    "model.add(Dropout(0.5))\n",
    "model.add(Dense(10, activation='softmax'))"
   ]
  },
  {
   "cell_type": "markdown",
   "metadata": {},
   "source": [
    "### 4. Compile The Model "
   ]
  },
  {
   "cell_type": "code",
   "execution_count": null,
   "metadata": {},
   "outputs": [],
   "source": [
    "model.compile(loss='categorical_crossentropy', optimizer=Adam(lr=0.0001, decay=1e-6), metrics=['accuracy'])"
   ]
  },
  {
   "cell_type": "markdown",
   "metadata": {},
   "source": [
    "### 5.Train Model"
   ]
  },
  {
   "cell_type": "code",
   "execution_count": 10,
   "metadata": {},
   "outputs": [
    {
     "name": "stdout",
     "output_type": "stream",
     "text": [
      "WARNING:tensorflow:Variable *= will be deprecated. Use variable.assign_mul if you want assignment to the variable value or 'x = x * y' if you want a new python Tensor object.\n",
      "Train on 50000 samples, validate on 10000 samples\n",
      "Epoch 1/5000\n",
      "50000/50000 [==============================] - 29s 590us/step - loss: 2.0439 - acc: 0.2126 - val_loss: 1.7662 - val_acc: 0.3511\n",
      "Epoch 2/5000\n",
      "50000/50000 [==============================] - 12s 243us/step - loss: 1.6704 - acc: 0.3692 - val_loss: 1.5060 - val_acc: 0.4480\n",
      "Epoch 3/5000\n",
      "50000/50000 [==============================] - 12s 242us/step - loss: 1.4902 - acc: 0.4452 - val_loss: 1.3877 - val_acc: 0.4979\n",
      "Epoch 4/5000\n",
      "50000/50000 [==============================] - 12s 246us/step - loss: 1.3770 - acc: 0.4961 - val_loss: 1.3030 - val_acc: 0.5387\n",
      "Epoch 5/5000\n",
      "50000/50000 [==============================] - 12s 240us/step - loss: 1.2944 - acc: 0.5294 - val_loss: 1.2097 - val_acc: 0.5621\n",
      "Epoch 6/5000\n",
      "50000/50000 [==============================] - 12s 241us/step - loss: 1.2358 - acc: 0.5523 - val_loss: 1.1725 - val_acc: 0.5803\n",
      "Epoch 7/5000\n",
      "50000/50000 [==============================] - 12s 243us/step - loss: 1.1936 - acc: 0.5702 - val_loss: 1.1267 - val_acc: 0.5949\n",
      "Epoch 8/5000\n",
      "50000/50000 [==============================] - 12s 240us/step - loss: 1.1437 - acc: 0.5896 - val_loss: 1.0798 - val_acc: 0.6129\n",
      "Epoch 9/5000\n",
      "50000/50000 [==============================] - 12s 239us/step - loss: 1.1131 - acc: 0.5980 - val_loss: 1.0588 - val_acc: 0.6214\n",
      "Epoch 10/5000\n",
      "50000/50000 [==============================] - 12s 239us/step - loss: 1.0778 - acc: 0.6137 - val_loss: 1.0475 - val_acc: 0.6251\n",
      "Epoch 11/5000\n",
      "50000/50000 [==============================] - 12s 240us/step - loss: 1.0519 - acc: 0.6228 - val_loss: 1.0141 - val_acc: 0.6365\n",
      "Epoch 12/5000\n",
      "50000/50000 [==============================] - 12s 239us/step - loss: 1.0229 - acc: 0.6347 - val_loss: 1.0071 - val_acc: 0.6422\n",
      "Epoch 13/5000\n",
      "50000/50000 [==============================] - 12s 240us/step - loss: 1.0039 - acc: 0.6420 - val_loss: 0.9770 - val_acc: 0.6477\n",
      "Epoch 14/5000\n",
      "50000/50000 [==============================] - 12s 247us/step - loss: 0.9777 - acc: 0.6516 - val_loss: 0.9689 - val_acc: 0.6574\n",
      "Epoch 15/5000\n",
      "50000/50000 [==============================] - 12s 243us/step - loss: 0.9613 - acc: 0.6565 - val_loss: 0.9279 - val_acc: 0.6691\n",
      "Epoch 16/5000\n",
      "50000/50000 [==============================] - 12s 246us/step - loss: 0.9391 - acc: 0.6665 - val_loss: 0.9012 - val_acc: 0.6796\n",
      "Epoch 17/5000\n",
      "50000/50000 [==============================] - 12s 242us/step - loss: 0.9194 - acc: 0.6747 - val_loss: 0.9056 - val_acc: 0.6789\n",
      "Epoch 18/5000\n",
      "50000/50000 [==============================] - 13s 250us/step - loss: 0.9006 - acc: 0.6787 - val_loss: 0.8686 - val_acc: 0.6896\n",
      "Epoch 19/5000\n",
      "50000/50000 [==============================] - 12s 245us/step - loss: 0.8870 - acc: 0.6845 - val_loss: 0.8419 - val_acc: 0.7047\n",
      "Epoch 20/5000\n",
      "50000/50000 [==============================] - 12s 242us/step - loss: 0.8685 - acc: 0.6907 - val_loss: 0.8671 - val_acc: 0.6968\n",
      "Epoch 21/5000\n",
      "50000/50000 [==============================] - 12s 240us/step - loss: 0.8556 - acc: 0.6976 - val_loss: 0.8963 - val_acc: 0.6908\n",
      "Epoch 22/5000\n",
      "50000/50000 [==============================] - 12s 235us/step - loss: 0.8426 - acc: 0.7014 - val_loss: 0.8526 - val_acc: 0.7023\n"
     ]
    }
   ],
   "source": [
    "hist = model.fit(X_train / 255.0, to_categorical(Y_train),\n",
    "              batch_size=128,\n",
    "              shuffle=True,\n",
    "              epochs=5000,\n",
    "              validation_data=(X_test / 255.0, to_categorical(Y_test)),\n",
    "              callbacks=[EarlyStopping(min_delta=0.001, patience=3)])"
   ]
  },
  {
   "cell_type": "markdown",
   "metadata": {},
   "source": [
    "### 6. Evaluation"
   ]
  },
  {
   "cell_type": "code",
   "execution_count": 13,
   "metadata": {},
   "outputs": [
    {
     "name": "stdout",
     "output_type": "stream",
     "text": [
      "10000/10000 [==============================] - 1s 128us/step\n",
      "Loss: 0.853\n",
      "Accuracy: 0.702\n"
     ]
    }
   ],
   "source": [
    "# Evaluate the model\n",
    "scores = model.evaluate(X_test / 255.0, to_categorical(Y_test))\n",
    "\n",
    "print('Loss: %.3f' % scores[0])\n",
    "print('Accuracy: %.3f' % scores[1])"
   ]
  },
  {
   "cell_type": "code",
   "execution_count": null,
   "metadata": {},
   "outputs": [],
   "source": []
  }
 ],
 "metadata": {
  "kernelspec": {
   "display_name": "Python 3",
   "language": "python",
   "name": "python3"
  },
  "language_info": {
   "codemirror_mode": {
    "name": "ipython",
    "version": 3
   },
   "file_extension": ".py",
   "mimetype": "text/x-python",
   "name": "python",
   "nbconvert_exporter": "python",
   "pygments_lexer": "ipython3",
   "version": "3.6.5"
  }
 },
 "nbformat": 4,
 "nbformat_minor": 2
}
