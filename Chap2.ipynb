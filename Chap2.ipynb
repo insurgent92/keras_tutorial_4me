{
 "cells": [
  {
   "cell_type": "markdown",
   "metadata": {},
   "source": [
    "## Chap2. Plot with matplotlib\n",
    "matplotlib으로 출력하기"
   ]
  },
  {
   "cell_type": "markdown",
   "metadata": {},
   "source": [
    "### 1. Import"
   ]
  },
  {
   "cell_type": "code",
   "execution_count": 1,
   "metadata": {},
   "outputs": [
    {
     "name": "stderr",
     "output_type": "stream",
     "text": [
      "/home/visionnoob/anaconda3/envs/py36tf17/lib/python3.6/site-packages/h5py/__init__.py:36: FutureWarning: Conversion of the second argument of issubdtype from `float` to `np.floating` is deprecated. In future, it will be treated as `np.float64 == np.dtype(float).type`.\n",
      "  from ._conv import register_converters as _register_converters\n",
      "Using TensorFlow backend.\n"
     ]
    }
   ],
   "source": [
    "import numpy as np\n",
    "from keras.callbacks import EarlyStopping\n",
    "from keras.datasets import cifar10\n",
    "from keras.models import Sequential\n",
    "from keras.layers.core import Dense, Dropout, Flatten\n",
    "from keras.layers.convolutional import Conv2D\n",
    "from keras.optimizers import Adam\n",
    "from keras.layers.pooling import MaxPooling2D\n",
    "from keras.utils import to_categorical\n",
    "np.random.seed(1000)"
   ]
  },
  {
   "cell_type": "markdown",
   "metadata": {},
   "source": [
    "### 2. Load cifar10"
   ]
  },
  {
   "cell_type": "code",
   "execution_count": 2,
   "metadata": {},
   "outputs": [],
   "source": [
    "(X_train, Y_train), (X_test, Y_test) = cifar10.load_data()"
   ]
  },
  {
   "cell_type": "markdown",
   "metadata": {},
   "source": [
    "### 3. Construct CNN Model"
   ]
  },
  {
   "cell_type": "code",
   "execution_count": 3,
   "metadata": {},
   "outputs": [],
   "source": [
    "# Create the model\n",
    "model = Sequential()\n",
    "\n",
    "model.add(Conv2D(64, kernel_size=(5, 5), activation='relu', input_shape=(32, 32, 3)))\n",
    "model.add(MaxPooling2D(pool_size=(3, 3), padding = 'same',strides=(2, 2)))\n",
    "model.add(Dropout(0.25))\n",
    "\n",
    "model.add(Conv2D(64, kernel_size=(5, 5), activation='relu', input_shape=(8, 8, 64)))\n",
    "model.add(MaxPooling2D(pool_size=(3, 3), padding = 'same',strides=(2, 2)))\n",
    "model.add(Dropout(0.25))\n",
    "\n",
    "model.add(Conv2D(128, kernel_size=(3, 3), padding = 'same', activation='relu', input_shape=(8, 8, 128)))\n",
    "model.add(Dropout(0.25))\n",
    "\n",
    "model.add(Conv2D(128, kernel_size=(3, 3), padding = 'same', activation='relu', input_shape=(8, 8, 128)))\n",
    "model.add(Dropout(0.25))\n",
    "\n",
    "model.add(Conv2D(128, kernel_size=(3, 3), padding = 'same', activation='relu', input_shape=(8, 8, 128)))\n",
    "model.add(Dropout(0.25))\n",
    "\n",
    "model.add(Flatten())\n",
    "model.add(Dense(384, activation='relu'))\n",
    "model.add(Dropout(0.5))\n",
    "model.add(Dense(10, activation='softmax'))"
   ]
  },
  {
   "cell_type": "markdown",
   "metadata": {},
   "source": [
    "### 4. Compile The Model "
   ]
  },
  {
   "cell_type": "code",
   "execution_count": 4,
   "metadata": {},
   "outputs": [],
   "source": [
    "model.compile(loss='categorical_crossentropy', optimizer=Adam(lr=0.0001, decay=1e-6), metrics=['accuracy'])"
   ]
  },
  {
   "cell_type": "markdown",
   "metadata": {},
   "source": [
    "### 5.Train Model"
   ]
  },
  {
   "cell_type": "code",
   "execution_count": 5,
   "metadata": {},
   "outputs": [
    {
     "name": "stdout",
     "output_type": "stream",
     "text": [
      "WARNING:tensorflow:Variable *= will be deprecated. Use variable.assign_mul if you want assignment to the variable value or 'x = x * y' if you want a new python Tensor object.\n",
      "Train on 50000 samples, validate on 10000 samples\n",
      "Epoch 1/5000\n",
      "50000/50000 [==============================] - 30s 610us/step - loss: 2.0198 - acc: 0.2199 - val_loss: 1.6996 - val_acc: 0.3733\n",
      "Epoch 2/5000\n",
      "50000/50000 [==============================] - 12s 242us/step - loss: 1.6221 - acc: 0.3899 - val_loss: 1.4777 - val_acc: 0.4567\n",
      "Epoch 3/5000\n",
      "50000/50000 [==============================] - 12s 248us/step - loss: 1.4688 - acc: 0.4541 - val_loss: 1.3713 - val_acc: 0.4965\n",
      "Epoch 4/5000\n",
      "50000/50000 [==============================] - 12s 243us/step - loss: 1.3624 - acc: 0.5012 - val_loss: 1.3207 - val_acc: 0.5316\n",
      "Epoch 5/5000\n",
      "50000/50000 [==============================] - 12s 233us/step - loss: 1.2802 - acc: 0.5341 - val_loss: 1.1723 - val_acc: 0.5876\n",
      "Epoch 6/5000\n",
      "50000/50000 [==============================] - 12s 236us/step - loss: 1.2185 - acc: 0.5605 - val_loss: 1.1234 - val_acc: 0.5985\n",
      "Epoch 7/5000\n",
      "50000/50000 [==============================] - 12s 236us/step - loss: 1.1654 - acc: 0.5807 - val_loss: 1.0690 - val_acc: 0.6249\n",
      "Epoch 8/5000\n",
      "50000/50000 [==============================] - 12s 245us/step - loss: 1.1263 - acc: 0.5971 - val_loss: 1.0966 - val_acc: 0.6111\n",
      "Epoch 9/5000\n",
      "50000/50000 [==============================] - 12s 238us/step - loss: 1.1000 - acc: 0.6080 - val_loss: 1.0463 - val_acc: 0.6323\n",
      "Epoch 10/5000\n",
      "50000/50000 [==============================] - 12s 240us/step - loss: 1.0591 - acc: 0.6219 - val_loss: 0.9841 - val_acc: 0.6541\n",
      "Epoch 11/5000\n",
      "50000/50000 [==============================] - 13s 250us/step - loss: 1.0298 - acc: 0.6334 - val_loss: 0.9967 - val_acc: 0.6510\n",
      "Epoch 12/5000\n",
      "50000/50000 [==============================] - 12s 236us/step - loss: 1.0086 - acc: 0.6409 - val_loss: 0.9661 - val_acc: 0.6593\n",
      "Epoch 13/5000\n",
      "50000/50000 [==============================] - 12s 235us/step - loss: 0.9812 - acc: 0.6522 - val_loss: 0.9373 - val_acc: 0.6701\n",
      "Epoch 14/5000\n",
      "50000/50000 [==============================] - 12s 235us/step - loss: 0.9557 - acc: 0.6593 - val_loss: 0.9027 - val_acc: 0.6820\n",
      "Epoch 15/5000\n",
      "50000/50000 [==============================] - 12s 235us/step - loss: 0.9421 - acc: 0.6640 - val_loss: 0.8803 - val_acc: 0.6896\n",
      "Epoch 16/5000\n",
      "50000/50000 [==============================] - 12s 236us/step - loss: 0.9159 - acc: 0.6744 - val_loss: 0.9065 - val_acc: 0.6820\n",
      "Epoch 17/5000\n",
      "50000/50000 [==============================] - 12s 238us/step - loss: 0.8989 - acc: 0.6817 - val_loss: 0.8553 - val_acc: 0.7020\n",
      "Epoch 18/5000\n",
      "50000/50000 [==============================] - 12s 236us/step - loss: 0.8812 - acc: 0.6896 - val_loss: 0.8605 - val_acc: 0.6939\n",
      "Epoch 19/5000\n",
      "50000/50000 [==============================] - 12s 237us/step - loss: 0.8646 - acc: 0.6958 - val_loss: 0.8772 - val_acc: 0.6909\n",
      "Epoch 20/5000\n",
      "50000/50000 [==============================] - 12s 236us/step - loss: 0.8487 - acc: 0.6993 - val_loss: 0.8636 - val_acc: 0.6984\n"
     ]
    }
   ],
   "source": [
    "hist = model.fit(X_train / 255.0, to_categorical(Y_train),\n",
    "              batch_size=128,\n",
    "              shuffle=True,\n",
    "              epochs=5000,\n",
    "              validation_data=(X_test / 255.0, to_categorical(Y_test)),\n",
    "              callbacks=[EarlyStopping(min_delta=0.001, patience=3)])"
   ]
  },
  {
   "cell_type": "markdown",
   "metadata": {},
   "source": [
    "### 6. Evaluation"
   ]
  },
  {
   "cell_type": "code",
   "execution_count": 6,
   "metadata": {},
   "outputs": [
    {
     "name": "stdout",
     "output_type": "stream",
     "text": [
      "10000/10000 [==============================] - 1s 128us/step\n",
      "Loss: 0.864\n",
      "Accuracy: 0.698\n"
     ]
    }
   ],
   "source": [
    "# Evaluate the model\n",
    "scores = model.evaluate(X_test / 255.0, to_categorical(Y_test))\n",
    "\n",
    "print('Loss: %.3f' % scores[0])\n",
    "print('Accuracy: %.3f' % scores[1])"
   ]
  },
  {
   "cell_type": "markdown",
   "metadata": {},
   "source": [
    "### 7. Plot with pyPlot\n",
    "참고로 트레이닝이 다 끝나야 Plot됨 "
   ]
  },
  {
   "cell_type": "code",
   "execution_count": 7,
   "metadata": {},
   "outputs": [
    {
     "data": {
      "image/png": "[encoded data removed]",
      "text/plain": [
       "<Figure size 432x288 with 2 Axes>"
      ]
     },
     "metadata": {},
     "output_type": "display_data"
    }
   ],
   "source": [
    "%matplotlib inline\n",
    "import matplotlib.pyplot as plt\n",
    "\n",
    "fig, loss_ax = plt.subplots()\n",
    "\n",
    "acc_ax = loss_ax.twinx()\n",
    "\n",
    "loss_ax.plot(hist.history['loss'], 'y', label='train loss')\n",
    "loss_ax.plot(hist.history['val_loss'], 'r', label='val loss')\n",
    "\n",
    "acc_ax.plot(hist.history['acc'], 'b', label='train acc')\n",
    "acc_ax.plot(hist.history['val_acc'], 'g', label='val acc')\n",
    "\n",
    "loss_ax.set_xlabel('epoch')\n",
    "loss_ax.set_ylabel('loss')\n",
    "acc_ax.set_ylabel('accuray')\n",
    "\n",
    "loss_ax.legend(loc='upper left')\n",
    "acc_ax.legend(loc='lower left')\n",
    "\n",
    "plt.show()"
   ]
  },
  {
   "cell_type": "code",
   "execution_count": null,
   "metadata": {},
   "outputs": [],
   "source": []
  }
 ],
 "metadata": {
  "kernelspec": {
   "display_name": "Python 3",
   "language": "python",
   "name": "python3"
  },
  "language_info": {
   "codemirror_mode": {
    "name": "ipython",
    "version": 3
   },
   "file_extension": ".py",
   "mimetype": "text/x-python",
   "name": "python",
   "nbconvert_exporter": "python",
   "pygments_lexer": "ipython3",
   "version": "3.6.5"
  }
 },
 "nbformat": 4,
 "nbformat_minor": 2
}
